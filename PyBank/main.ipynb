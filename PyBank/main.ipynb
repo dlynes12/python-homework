{
 "cells": [
  {
   "cell_type": "code",
   "execution_count": 50,
   "metadata": {},
   "outputs": [
    {
     "name": "stdout",
     "output_type": "stream",
     "text": [
      "86\n",
      "38382578\n",
      "446309.0465116279\n",
      "1170593{'Feb-2012'}\n"
     ]
    }
   ],
   "source": [
    "from pathlib import Path\n",
    "import csv\n",
    "csvpath = Path('budget_data.csv')\n",
    "profits = 0\n",
    "months = 0\n",
    "avgprof = 0\n",
    "maxgainnum = 0\n",
    "maxgaindate = \"\"\n",
    "mininnum = 0\n",
    "minindate = \"\"\n",
    "maxnum = 0\n",
    "list= []\n",
    "with open(csvpath, 'r') as csvfile:\n",
    "    csvreader = csv.DictReader(csvfile, delimiter=',')\n",
    "    for row in csvreader:\n",
    "        \n",
    "        months +=1\n",
    "        for i in {row['Profit/Losses']}:\n",
    "            num = int(i)\n",
    "            profits +=num\n",
    "            if maxgainnum < num:\n",
    "                maxgainnum = num\n",
    "                maxgaindate = {row['Date']}\n",
    "                \n",
    "    \n",
    "    \n",
    "\n",
    "avgprof = profits / months\n",
    "    \n",
    "print(months)\n",
    "print(profits)\n",
    "print(avgprof)\n",
    "print(str(maxgainnum) + str (maxgaindate))\n"
   ]
  },
  {
   "cell_type": "code",
   "execution_count": null,
   "metadata": {},
   "outputs": [],
   "source": []
  },
  {
   "cell_type": "code",
   "execution_count": null,
   "metadata": {},
   "outputs": [],
   "source": []
  },
  {
   "cell_type": "code",
   "execution_count": null,
   "metadata": {},
   "outputs": [],
   "source": []
  },
  {
   "cell_type": "code",
   "execution_count": null,
   "metadata": {},
   "outputs": [],
   "source": []
  }
 ],
 "metadata": {
  "kernelspec": {
   "display_name": "Python 3",
   "language": "python",
   "name": "python3"
  },
  "language_info": {
   "codemirror_mode": {
    "name": "ipython",
    "version": 3
   },
   "file_extension": ".py",
   "mimetype": "text/x-python",
   "name": "python",
   "nbconvert_exporter": "python",
   "pygments_lexer": "ipython3",
   "version": "3.7.7"
  }
 },
 "nbformat": 4,
 "nbformat_minor": 4
}
